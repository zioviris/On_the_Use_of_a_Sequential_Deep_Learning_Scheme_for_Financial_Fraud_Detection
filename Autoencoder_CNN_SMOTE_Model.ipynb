{
 "cells": [
  {
   "cell_type": "code",
   "execution_count": 16,
   "metadata": {},
   "outputs": [],
   "source": [
    "import pandas as pd\n",
    "import numpy as np\n",
    "from scipy import stats\n",
    "import tensorflow as tf\n",
    "import matplotlib.pyplot as plt\n",
    "import seaborn as sns\n",
    "import pickle\n",
    "from sklearn.utils import shuffle\n",
    "\n",
    "from sklearn.model_selection import train_test_split\n",
    "from sklearn.metrics import confusion_matrix, precision_recall_curve\n",
    "from sklearn.metrics import recall_score, classification_report, auc, roc_curve,confusion_matrix,accuracy_score, auc\n",
    "\n",
    "from sklearn.metrics import precision_recall_fscore_support, f1_score\n",
    "from sklearn.preprocessing import StandardScaler\n",
    "\n",
    "from pylab import rcParams\n",
    "from keras.models import Model, load_model\n",
    "from keras.layers import Input, Dense\n",
    "from keras.callbacks import ModelCheckpoint, TensorBoard\n",
    "from keras import regularizers\n",
    "from tensorflow import keras\n",
    "from keras import Sequential\n",
    "from keras.layers import Flatten, Dense, Dropout, BatchNormalization\n",
    "from keras.layers import Conv1D, MaxPool1D\n",
    "from keras.optimizers import Adam\n",
    "from sklearn.metrics import confusion_matrix,accuracy_score, roc_curve, auc\n",
    "\n",
    "import imblearn\n",
    "from imblearn.over_sampling import SMOTE"
   ]
  },
  {
   "cell_type": "code",
   "execution_count": 17,
   "metadata": {},
   "outputs": [
    {
     "data": {
      "text/plain": [
       "(284807, 31)"
      ]
     },
     "execution_count": 17,
     "metadata": {},
     "output_type": "execute_result"
    }
   ],
   "source": [
    "# Read the dataset\n",
    "df = pd.read_csv('F:creditcard.csv')\n",
    "#check on the size of the dataframe\n",
    "\n",
    "df=shuffle(df)\n",
    "df.shape"
   ]
  },
  {
   "cell_type": "code",
   "execution_count": 18,
   "metadata": {},
   "outputs": [],
   "source": [
    "# We separate the feature vector from the classification result\n",
    "X = df.drop('Class',axis=1).values\n",
    "y = df['Class'].values"
   ]
  },
  {
   "cell_type": "code",
   "execution_count": 19,
   "metadata": {},
   "outputs": [],
   "source": [
    "# Feature scaling\n",
    "X -= X.min(axis=0)\n",
    "X /= X.max(axis=0)"
   ]
  },
  {
   "cell_type": "code",
   "execution_count": 20,
   "metadata": {},
   "outputs": [
    {
     "data": {
      "text/plain": [
       "(199364, 30)"
      ]
     },
     "execution_count": 20,
     "metadata": {},
     "output_type": "execute_result"
    }
   ],
   "source": [
    "#Separation of data into training & test sets\n",
    "X_train, X_test, y_train,y_test = train_test_split(X,y,test_size=0.3)\n",
    "X_train = X_train.reshape(X_train.shape[0], X_train.shape[1])\n",
    "X_test = X_test.reshape(X_test.shape[0], X_test.shape[1])\n",
    "X_train.shape"
   ]
  },
  {
   "cell_type": "code",
   "execution_count": 21,
   "metadata": {},
   "outputs": [
    {
     "name": "stdout",
     "output_type": "stream",
     "text": [
      "Before OverSampling, counts of label '1': 492\n",
      "Before OverSampling, counts of label '0': 284315 \n",
      "\n"
     ]
    },
    {
     "name": "stderr",
     "output_type": "stream",
     "text": [
      "F:\\Anaconda\\lib\\site-packages\\sklearn\\utils\\deprecation.py:87: FutureWarning: Function safe_indexing is deprecated; safe_indexing is deprecated in version 0.22 and will be removed in version 0.24.\n",
      "  warnings.warn(msg, category=FutureWarning)\n"
     ]
    },
    {
     "name": "stdout",
     "output_type": "stream",
     "text": [
      "After OverSampling, the shape of train_X: (398014, 30)\n",
      "After OverSampling, the shape of train_y: (398014,) \n",
      "\n",
      "After OverSampling, counts of label '1': 199007\n",
      "After OverSampling, counts of label '0': 199007\n"
     ]
    }
   ],
   "source": [
    "print(\"Before OverSampling, counts of label '1': {}\".format(sum(y==1)))\n",
    "print(\"Before OverSampling, counts of label '0': {} \\n\".format(sum(y==0)))\n",
    "\n",
    "sm = SMOTE(random_state=2)\n",
    "X_res_train, y_train_res = sm.fit_sample(X_train, y_train.ravel())\n",
    "\n",
    "print('After OverSampling, the shape of train_X: {}'.format(X_res_train.shape))\n",
    "print('After OverSampling, the shape of train_y: {} \\n'.format(y_train_res.shape))\n",
    "\n",
    "print(\"After OverSampling, counts of label '1': {}\".format(sum(y_train_res==1)))\n",
    "print(\"After OverSampling, counts of label '0': {}\".format(sum(y_train_res==0)))"
   ]
  },
  {
   "cell_type": "code",
   "execution_count": 22,
   "metadata": {},
   "outputs": [],
   "source": [
    "nb_epoch = 100\n",
    "#batch_size = 256\n",
    "input_dim = X_res_train.shape[1] #num of columns, 30\n",
    "encoding_dim_1 = 27\n",
    "encoding_dim_2 = 24\n",
    "encoding_dim_3 = 21\n",
    "hidden_dim = 15\n",
    "learning_rate = 1e-7\n",
    "input_layer = Input(shape=(input_dim, ))\n",
    "\n",
    "encoder = Dense(encoding_dim_1, activation=\"elu\", activity_regularizer=regularizers.l1(learning_rate))(input_layer)\n",
    "encoder = Dense(encoding_dim_2, activation = \"elu\")(encoder)\n",
    "encoder = Dense(encoding_dim_3, activation = \"elu\")(encoder)\n",
    "\n",
    "encoder = Dense(hidden_dim, activation=\"elu\")(encoder)\n",
    "\n",
    "decoder = Dense(encoding_dim_3, activation = \"elu\")(encoder)\n",
    "decoder = Dense(encoding_dim_2, activation = \"elu\")(decoder)\n",
    "decoder = Dense(encoding_dim_1, activation = \"elu\")(decoder)\n",
    "decoder = Dense(input_dim, activation=\"elu\")(decoder)\n",
    "\n",
    "autoencoder = Model(inputs=input_layer, outputs=decoder)"
   ]
  },
  {
   "cell_type": "code",
   "execution_count": 23,
   "metadata": {},
   "outputs": [
    {
     "name": "stdout",
     "output_type": "stream",
     "text": [
      "Train on 398014 samples, validate on 85443 samples\n",
      "Epoch 1/50\n",
      "398014/398014 [==============================] - 55s 139us/step - loss: 0.0011 - val_loss: 2.8536e-04\n",
      "Epoch 2/50\n",
      "398014/398014 [==============================] - 54s 134us/step - loss: 1.6065e-04 - val_loss: 1.7618e-04\n",
      "Epoch 3/50\n",
      "398014/398014 [==============================] - 57s 144us/step - loss: 1.3260e-04 - val_loss: 1.4285e-04\n",
      "Epoch 4/50\n",
      "398014/398014 [==============================] - 55s 139us/step - loss: 1.1227e-04 - val_loss: 1.2057e-04\n",
      "Epoch 5/50\n",
      "398014/398014 [==============================] - 56s 141us/step - loss: 1.0034e-04 - val_loss: 1.0779e-04\n",
      "Epoch 6/50\n",
      "398014/398014 [==============================] - 56s 141us/step - loss: 9.3259e-05 - val_loss: 1.0052e-04\n",
      "Epoch 7/50\n",
      "398014/398014 [==============================] - 54s 136us/step - loss: 8.6855e-05 - val_loss: 9.5131e-05\n",
      "Epoch 8/50\n",
      "398014/398014 [==============================] - 57s 144us/step - loss: 8.1809e-05 - val_loss: 9.3171e-05\n",
      "Epoch 9/50\n",
      "398014/398014 [==============================] - 54s 136us/step - loss: 7.8242e-05 - val_loss: 9.4759e-05\n",
      "Epoch 10/50\n",
      "398014/398014 [==============================] - 53s 133us/step - loss: 7.5443e-05 - val_loss: 8.0441e-05\n",
      "Epoch 11/50\n",
      "398014/398014 [==============================] - 59s 149us/step - loss: 7.3265e-05 - val_loss: 8.1425e-05\n",
      "Epoch 12/50\n",
      "398014/398014 [==============================] - 55s 139us/step - loss: 7.1470e-05 - val_loss: 8.1745e-05\n",
      "Epoch 13/50\n",
      "398014/398014 [==============================] - 57s 144us/step - loss: 6.9844e-05 - val_loss: 7.5844e-05\n",
      "Epoch 14/50\n",
      "398014/398014 [==============================] - 55s 138us/step - loss: 6.8574e-05 - val_loss: 7.4642e-05\n",
      "Epoch 15/50\n",
      "398014/398014 [==============================] - 55s 138us/step - loss: 6.7342e-05 - val_loss: 7.3325e-05\n",
      "Epoch 16/50\n",
      "398014/398014 [==============================] - 49s 123us/step - loss: 6.6330e-05 - val_loss: 7.1134e-05\n",
      "Epoch 17/50\n",
      "398014/398014 [==============================] - 48s 121us/step - loss: 6.5324e-05 - val_loss: 7.1032e-05\n",
      "Epoch 18/50\n",
      "398014/398014 [==============================] - 48s 120us/step - loss: 6.4356e-05 - val_loss: 7.3769e-05\n",
      "Epoch 19/50\n",
      "398014/398014 [==============================] - 48s 120us/step - loss: 6.3571e-05 - val_loss: 6.9511e-05\n",
      "Epoch 20/50\n",
      "398014/398014 [==============================] - 48s 121us/step - loss: 6.2816e-05 - val_loss: 6.8469e-05\n",
      "Epoch 21/50\n",
      "398014/398014 [==============================] - 48s 120us/step - loss: 6.2134e-05 - val_loss: 6.8642e-05\n",
      "Epoch 22/50\n",
      "398014/398014 [==============================] - 47s 118us/step - loss: 6.1710e-05 - val_loss: 6.4599e-05\n",
      "Epoch 23/50\n",
      "398014/398014 [==============================] - 47s 118us/step - loss: 6.1118e-05 - val_loss: 6.8617e-05\n",
      "Epoch 24/50\n",
      "398014/398014 [==============================] - 47s 119us/step - loss: 6.0724e-05 - val_loss: 7.2456e-05\n",
      "Epoch 25/50\n",
      "398014/398014 [==============================] - 47s 118us/step - loss: 6.0348e-05 - val_loss: 7.1028e-05\n",
      "Epoch 26/50\n",
      "398014/398014 [==============================] - 47s 119us/step - loss: 5.9794e-05 - val_loss: 6.6009e-05\n",
      "Epoch 27/50\n",
      "398014/398014 [==============================] - 48s 119us/step - loss: 5.9487e-05 - val_loss: 6.8605e-05\n",
      "Epoch 28/50\n",
      "398014/398014 [==============================] - 48s 120us/step - loss: 5.9025e-05 - val_loss: 6.4560e-05\n",
      "Epoch 29/50\n",
      "398014/398014 [==============================] - 48s 120us/step - loss: 5.8780e-05 - val_loss: 6.3334e-05\n",
      "Epoch 30/50\n",
      "398014/398014 [==============================] - 48s 119us/step - loss: 5.8367e-05 - val_loss: 6.3906e-05\n",
      "Epoch 31/50\n",
      "398014/398014 [==============================] - 48s 120us/step - loss: 5.7998e-05 - val_loss: 7.0561e-05\n",
      "Epoch 32/50\n",
      "398014/398014 [==============================] - 48s 120us/step - loss: 5.7602e-05 - val_loss: 6.3027e-05\n",
      "Epoch 33/50\n",
      "398014/398014 [==============================] - 48s 120us/step - loss: 5.7488e-05 - val_loss: 6.0134e-05\n",
      "Epoch 34/50\n",
      "398014/398014 [==============================] - 47s 119us/step - loss: 5.7026e-05 - val_loss: 6.5204e-05\n",
      "Epoch 35/50\n",
      "398014/398014 [==============================] - 48s 120us/step - loss: 5.6790e-05 - val_loss: 6.1636e-05\n",
      "Epoch 36/50\n",
      "398014/398014 [==============================] - 48s 120us/step - loss: 5.6352e-05 - val_loss: 5.9450e-05\n",
      "Epoch 37/50\n",
      "398014/398014 [==============================] - 51s 128us/step - loss: 5.6216e-05 - val_loss: 6.0605e-05\n",
      "Epoch 38/50\n",
      "398014/398014 [==============================] - 59s 148us/step - loss: 5.5864e-05 - val_loss: 6.2703e-05\n",
      "Epoch 39/50\n",
      "398014/398014 [==============================] - 58s 147us/step - loss: 5.5581e-05 - val_loss: 5.9580e-05\n",
      "Epoch 40/50\n",
      "398014/398014 [==============================] - 58s 144us/step - loss: 5.5202e-05 - val_loss: 7.0647e-05\n",
      "Epoch 41/50\n",
      "398014/398014 [==============================] - 56s 139us/step - loss: 5.4918e-05 - val_loss: 6.3629e-05\n",
      "Epoch 42/50\n",
      "398014/398014 [==============================] - 65s 164us/step - loss: 5.4688e-05 - val_loss: 5.5645e-05\n",
      "Epoch 43/50\n",
      "398014/398014 [==============================] - 56s 140us/step - loss: 5.4394e-05 - val_loss: 5.9453e-05\n",
      "Epoch 44/50\n",
      "398014/398014 [==============================] - 56s 141us/step - loss: 5.4180e-05 - val_loss: 5.8349e-05\n",
      "Epoch 45/50\n",
      "398014/398014 [==============================] - 56s 140us/step - loss: 5.3873e-05 - val_loss: 6.0328e-05\n",
      "Epoch 46/50\n",
      "398014/398014 [==============================] - 56s 142us/step - loss: 5.3627e-05 - val_loss: 5.9153e-05\n",
      "Epoch 47/50\n",
      "398014/398014 [==============================] - 55s 139us/step - loss: 5.3435e-05 - val_loss: 6.3181e-05\n",
      "Epoch 48/50\n",
      "398014/398014 [==============================] - 56s 140us/step - loss: 5.3148e-05 - val_loss: 6.3170e-05\n",
      "Epoch 49/50\n",
      "398014/398014 [==============================] - 60s 151us/step - loss: 5.2970e-05 - val_loss: 6.2424e-05\n",
      "Epoch 50/50\n",
      "398014/398014 [==============================] - 67s 168us/step - loss: 5.2667e-05 - val_loss: 5.9550e-05\n"
     ]
    }
   ],
   "source": [
    "# Create the autoencoder model\n",
    "autoencoder = Model(input_layer, decoder)\n",
    "#Compile the autoencoder model\n",
    "autoencoder.compile(optimizer='adam',\n",
    "loss='mean_squared_error')\n",
    "#Fit to train set and save to hist_auto for plotting purposes\n",
    "hist_auto = autoencoder.fit(X_res_train, X_res_train,\n",
    "epochs=50,\n",
    "#batch_size=256,\n",
    "shuffle=True,\n",
    "validation_data=(X_test, X_test))"
   ]
  },
  {
   "cell_type": "code",
   "execution_count": 24,
   "metadata": {},
   "outputs": [
    {
     "data": {
      "image/png": "[encoded data removed]",
      "text/plain": [
       "<Figure size 432x288 with 1 Axes>"
      ]
     },
     "metadata": {
      "needs_background": "light"
     },
     "output_type": "display_data"
    }
   ],
   "source": [
    "# Summarize history for loss\n",
    "plt.figure()\n",
    "plt.plot(hist_auto.history['loss'])\n",
    "plt.plot(hist_auto.history['val_loss'])\n",
    "plt.title('Autoencoder model loss')\n",
    "plt.ylabel('loss')\n",
    "plt.xlabel('epoch')\n",
    "plt.legend(['train', 'test'], loc='upper right')\n",
    "plt.show()"
   ]
  },
  {
   "cell_type": "code",
   "execution_count": 25,
   "metadata": {},
   "outputs": [],
   "source": [
    "# Create a separate model (encoder) in order to make encodings (first part of the autoencoder model)\n",
    "encoder_model = Model(input_layer, encoder)\n",
    "# Create a placeholder for an encoded input\n",
    "encoded_input = Input(shape=(hidden_dim,))"
   ]
  },
  {
   "cell_type": "code",
   "execution_count": 26,
   "metadata": {},
   "outputs": [
    {
     "data": {
      "text/plain": [
       "(398014, 15, 1)"
      ]
     },
     "execution_count": 26,
     "metadata": {},
     "output_type": "execute_result"
    }
   ],
   "source": [
    "#Encode data set from above using the encoder\n",
    "encoded_train_x = encoder_model.predict(X_res_train)\n",
    "encoded_test_x = encoder_model.predict(X_test)\n",
    "#Reshape data for the CNN model\n",
    "encoded_train_x = encoded_train_x.reshape(encoded_train_x.shape[0],encoded_train_x.shape[1], 1)\n",
    "encoded_test_x = encoded_test_x.reshape(encoded_test_x.shape[0], encoded_test_x.shape[1], 1)\n",
    "encoded_train_x.shape"
   ]
  },
  {
   "cell_type": "code",
   "execution_count": 27,
   "metadata": {},
   "outputs": [
    {
     "name": "stdout",
     "output_type": "stream",
     "text": [
      "Train on 398014 samples, validate on 85443 samples\n",
      "Epoch 1/100\n",
      "398014/398014 [==============================] - 213s 535us/step - loss: 0.2690 - accuracy: 0.8883 - val_loss: 0.1398 - val_accuracy: 0.9775\n",
      "Epoch 2/100\n",
      "398014/398014 [==============================] - 203s 511us/step - loss: 0.1663 - accuracy: 0.9319 - val_loss: 0.1087 - val_accuracy: 0.9734\n",
      "Epoch 3/100\n",
      "398014/398014 [==============================] - 185s 466us/step - loss: 0.1402 - accuracy: 0.9428 - val_loss: 0.0934 - val_accuracy: 0.9743\n",
      "Epoch 4/100\n",
      "398014/398014 [==============================] - 183s 459us/step - loss: 0.1273 - accuracy: 0.9482 - val_loss: 0.0813 - val_accuracy: 0.9756\n",
      "Epoch 5/100\n",
      "398014/398014 [==============================] - 187s 469us/step - loss: 0.1190 - accuracy: 0.9519 - val_loss: 0.0732 - val_accuracy: 0.9769\n",
      "Epoch 6/100\n",
      "398014/398014 [==============================] - 214s 538us/step - loss: 0.1126 - accuracy: 0.9550 - val_loss: 0.0717 - val_accuracy: 0.9776\n",
      "Epoch 7/100\n",
      "398014/398014 [==============================] - 197s 495us/step - loss: 0.1075 - accuracy: 0.9568 - val_loss: 0.0698 - val_accuracy: 0.9776\n",
      "Epoch 8/100\n",
      "398014/398014 [==============================] - 182s 457us/step - loss: 0.1045 - accuracy: 0.9583 - val_loss: 0.0580 - val_accuracy: 0.9823\n",
      "Epoch 9/100\n",
      "398014/398014 [==============================] - 189s 475us/step - loss: 0.1010 - accuracy: 0.9597 - val_loss: 0.0635 - val_accuracy: 0.9782\n",
      "Epoch 10/100\n",
      "398014/398014 [==============================] - 179s 450us/step - loss: 0.0976 - accuracy: 0.9615 - val_loss: 0.0568 - val_accuracy: 0.9816\n",
      "Epoch 11/100\n",
      "398014/398014 [==============================] - 172s 431us/step - loss: 0.0961 - accuracy: 0.9630 - val_loss: 0.0566 - val_accuracy: 0.9808\n",
      "Epoch 12/100\n",
      "398014/398014 [==============================] - 170s 426us/step - loss: 0.0941 - accuracy: 0.9635 - val_loss: 0.0488 - val_accuracy: 0.9838\n",
      "Epoch 13/100\n",
      "398014/398014 [==============================] - 170s 428us/step - loss: 0.0928 - accuracy: 0.9645 - val_loss: 0.0550 - val_accuracy: 0.9815\n",
      "Epoch 14/100\n",
      "398014/398014 [==============================] - 170s 428us/step - loss: 0.0916 - accuracy: 0.9652 - val_loss: 0.0513 - val_accuracy: 0.9831\n",
      "Epoch 15/100\n",
      "398014/398014 [==============================] - 171s 429us/step - loss: 0.0893 - accuracy: 0.9661 - val_loss: 0.0505 - val_accuracy: 0.9827\n",
      "Epoch 16/100\n",
      "398014/398014 [==============================] - 174s 438us/step - loss: 0.0892 - accuracy: 0.9661 - val_loss: 0.0565 - val_accuracy: 0.9802\n",
      "Epoch 17/100\n",
      "398014/398014 [==============================] - 175s 439us/step - loss: 0.0888 - accuracy: 0.9661 - val_loss: 0.0485 - val_accuracy: 0.9835\n",
      "Epoch 18/100\n",
      "398014/398014 [==============================] - 175s 439us/step - loss: 0.0872 - accuracy: 0.9671 - val_loss: 0.0447 - val_accuracy: 0.9849\n",
      "Epoch 19/100\n",
      "398014/398014 [==============================] - 175s 439us/step - loss: 0.0867 - accuracy: 0.9670 - val_loss: 0.0579 - val_accuracy: 0.9789\n",
      "Epoch 20/100\n",
      "398014/398014 [==============================] - 182s 458us/step - loss: 0.0852 - accuracy: 0.9680 - val_loss: 0.0464 - val_accuracy: 0.9842\n",
      "Epoch 21/100\n",
      "398014/398014 [==============================] - 181s 454us/step - loss: 0.0848 - accuracy: 0.9680 - val_loss: 0.0421 - val_accuracy: 0.9860\n",
      "Epoch 22/100\n",
      "398014/398014 [==============================] - 185s 465us/step - loss: 0.0843 - accuracy: 0.9686 - val_loss: 0.0457 - val_accuracy: 0.9845\n",
      "Epoch 23/100\n",
      "398014/398014 [==============================] - 184s 463us/step - loss: 0.0830 - accuracy: 0.9682 - val_loss: 0.0490 - val_accuracy: 0.9833\n",
      "Epoch 24/100\n",
      "398014/398014 [==============================] - 185s 464us/step - loss: 0.0828 - accuracy: 0.9688 - val_loss: 0.0469 - val_accuracy: 0.9841\n",
      "Epoch 25/100\n",
      "398014/398014 [==============================] - 175s 441us/step - loss: 0.0815 - accuracy: 0.9691 - val_loss: 0.0404 - val_accuracy: 0.9868\n",
      "Epoch 26/100\n",
      "398014/398014 [==============================] - 176s 441us/step - loss: 0.0814 - accuracy: 0.9695 - val_loss: 0.0430 - val_accuracy: 0.9858\n",
      "Epoch 27/100\n",
      "398014/398014 [==============================] - 175s 441us/step - loss: 0.0814 - accuracy: 0.9696 - val_loss: 0.0443 - val_accuracy: 0.9848\n",
      "Epoch 28/100\n",
      "398014/398014 [==============================] - 176s 442us/step - loss: 0.0807 - accuracy: 0.9698 - val_loss: 0.0429 - val_accuracy: 0.9855\n",
      "Epoch 29/100\n",
      "398014/398014 [==============================] - 170s 428us/step - loss: 0.0809 - accuracy: 0.9700 - val_loss: 0.0440 - val_accuracy: 0.9848\n",
      "Epoch 30/100\n",
      "398014/398014 [==============================] - 171s 430us/step - loss: 0.0796 - accuracy: 0.9699 - val_loss: 0.0414 - val_accuracy: 0.9859\n",
      "Epoch 31/100\n",
      "398014/398014 [==============================] - 172s 431us/step - loss: 0.0794 - accuracy: 0.9703 - val_loss: 0.0433 - val_accuracy: 0.9853\n",
      "Epoch 32/100\n",
      "398014/398014 [==============================] - 175s 441us/step - loss: 0.0800 - accuracy: 0.9699 - val_loss: 0.0431 - val_accuracy: 0.9852\n",
      "Epoch 33/100\n",
      "398014/398014 [==============================] - 176s 441us/step - loss: 0.0791 - accuracy: 0.9705 - val_loss: 0.0418 - val_accuracy: 0.9859\n",
      "Epoch 34/100\n",
      "398014/398014 [==============================] - 176s 442us/step - loss: 0.0790 - accuracy: 0.9706 - val_loss: 0.0446 - val_accuracy: 0.9849\n",
      "Epoch 35/100\n",
      "398014/398014 [==============================] - 176s 442us/step - loss: 0.0788 - accuracy: 0.9704 - val_loss: 0.0418 - val_accuracy: 0.9864\n",
      "Epoch 36/100\n",
      "398014/398014 [==============================] - 176s 443us/step - loss: 0.0781 - accuracy: 0.9708 - val_loss: 0.0431 - val_accuracy: 0.9858\n",
      "Epoch 37/100\n",
      "398014/398014 [==============================] - 162s 406us/step - loss: 0.0782 - accuracy: 0.9710 - val_loss: 0.0419 - val_accuracy: 0.9861\n",
      "Epoch 38/100\n",
      "398014/398014 [==============================] - 162s 406us/step - loss: 0.0772 - accuracy: 0.9712 - val_loss: 0.0395 - val_accuracy: 0.9873\n",
      "Epoch 39/100\n",
      "398014/398014 [==============================] - 161s 405us/step - loss: 0.0766 - accuracy: 0.9709 - val_loss: 0.0416 - val_accuracy: 0.9864\n",
      "Epoch 40/100\n",
      "398014/398014 [==============================] - 162s 408us/step - loss: 0.0779 - accuracy: 0.9712 - val_loss: 0.0433 - val_accuracy: 0.9853\n",
      "Epoch 41/100\n",
      "398014/398014 [==============================] - 162s 406us/step - loss: 0.0773 - accuracy: 0.9710 - val_loss: 0.0412 - val_accuracy: 0.9865\n",
      "Epoch 42/100\n",
      "398014/398014 [==============================] - 162s 407us/step - loss: 0.0771 - accuracy: 0.9713 - val_loss: 0.0351 - val_accuracy: 0.9887\n",
      "Epoch 43/100\n",
      "398014/398014 [==============================] - 161s 405us/step - loss: 0.0750 - accuracy: 0.9722 - val_loss: 0.0433 - val_accuracy: 0.9851\n",
      "Epoch 44/100\n",
      "398014/398014 [==============================] - 162s 408us/step - loss: 0.0748 - accuracy: 0.9719 - val_loss: 0.0398 - val_accuracy: 0.9863\n",
      "Epoch 45/100\n",
      "398014/398014 [==============================] - 161s 405us/step - loss: 0.0764 - accuracy: 0.9718 - val_loss: 0.0405 - val_accuracy: 0.9860\n",
      "Epoch 46/100\n",
      "398014/398014 [==============================] - 162s 408us/step - loss: 0.0766 - accuracy: 0.9716 - val_loss: 0.0392 - val_accuracy: 0.9871\n",
      "Epoch 47/100\n",
      "398014/398014 [==============================] - 162s 406us/step - loss: 0.0755 - accuracy: 0.9720 - val_loss: 0.0395 - val_accuracy: 0.9870\n",
      "Epoch 48/100\n",
      "398014/398014 [==============================] - 162s 407us/step - loss: 0.0750 - accuracy: 0.9721 - val_loss: 0.0354 - val_accuracy: 0.9891\n",
      "Epoch 49/100\n",
      "398014/398014 [==============================] - 162s 406us/step - loss: 0.0749 - accuracy: 0.9722 - val_loss: 0.0382 - val_accuracy: 0.9875\n",
      "Epoch 50/100\n",
      "398014/398014 [==============================] - 162s 408us/step - loss: 0.0747 - accuracy: 0.9723 - val_loss: 0.0376 - val_accuracy: 0.9875\n",
      "Epoch 51/100\n",
      "398014/398014 [==============================] - 162s 407us/step - loss: 0.0745 - accuracy: 0.9723 - val_loss: 0.0410 - val_accuracy: 0.9865\n",
      "Epoch 52/100\n",
      "398014/398014 [==============================] - 163s 409us/step - loss: 0.0745 - accuracy: 0.9724 - val_loss: 0.0432 - val_accuracy: 0.9853\n",
      "Epoch 53/100\n",
      "398014/398014 [==============================] - 162s 407us/step - loss: 0.0745 - accuracy: 0.9724 - val_loss: 0.0372 - val_accuracy: 0.9881\n"
     ]
    },
    {
     "name": "stdout",
     "output_type": "stream",
     "text": [
      "Epoch 54/100\n",
      "398014/398014 [==============================] - 162s 406us/step - loss: 0.0738 - accuracy: 0.9726 - val_loss: 0.0387 - val_accuracy: 0.9873\n",
      "Epoch 55/100\n",
      "398014/398014 [==============================] - 161s 405us/step - loss: 0.0750 - accuracy: 0.9720 - val_loss: 0.0392 - val_accuracy: 0.9874\n",
      "Epoch 56/100\n",
      "398014/398014 [==============================] - 162s 406us/step - loss: 0.0742 - accuracy: 0.9725 - val_loss: 0.0413 - val_accuracy: 0.9861\n",
      "Epoch 57/100\n",
      "398014/398014 [==============================] - 162s 406us/step - loss: 0.0745 - accuracy: 0.9723 - val_loss: 0.0444 - val_accuracy: 0.9849\n",
      "Epoch 58/100\n",
      "398014/398014 [==============================] - 162s 407us/step - loss: 0.0740 - accuracy: 0.9726 - val_loss: 0.0403 - val_accuracy: 0.9867\n",
      "Epoch 59/100\n",
      "398014/398014 [==============================] - 162s 406us/step - loss: 0.0737 - accuracy: 0.9726 - val_loss: 0.0416 - val_accuracy: 0.9859\n",
      "Epoch 60/100\n",
      "398014/398014 [==============================] - 162s 406us/step - loss: 0.0733 - accuracy: 0.9728 - val_loss: 0.0389 - val_accuracy: 0.9874\n",
      "Epoch 61/100\n",
      "398014/398014 [==============================] - 162s 407us/step - loss: 0.0734 - accuracy: 0.9727 - val_loss: 0.0389 - val_accuracy: 0.9874\n",
      "Epoch 62/100\n",
      "398014/398014 [==============================] - 164s 412us/step - loss: 0.0739 - accuracy: 0.9727 - val_loss: 0.0400 - val_accuracy: 0.9870\n",
      "Epoch 63/100\n",
      "398014/398014 [==============================] - 165s 414us/step - loss: 0.0727 - accuracy: 0.9732 - val_loss: 0.0429 - val_accuracy: 0.9856\n",
      "Epoch 64/100\n",
      "398014/398014 [==============================] - 163s 409us/step - loss: 0.0734 - accuracy: 0.9728 - val_loss: 0.0362 - val_accuracy: 0.9885\n",
      "Epoch 65/100\n",
      "398014/398014 [==============================] - 162s 407us/step - loss: 0.0731 - accuracy: 0.9729 - val_loss: 0.0361 - val_accuracy: 0.9886\n",
      "Epoch 66/100\n",
      "398014/398014 [==============================] - 162s 408us/step - loss: 0.0722 - accuracy: 0.9731 - val_loss: 0.0382 - val_accuracy: 0.9874\n",
      "Epoch 67/100\n",
      "398014/398014 [==============================] - 162s 407us/step - loss: 0.0737 - accuracy: 0.9730 - val_loss: 0.0378 - val_accuracy: 0.9882\n",
      "Epoch 68/100\n",
      "398014/398014 [==============================] - 162s 407us/step - loss: 0.0733 - accuracy: 0.9729 - val_loss: 0.0407 - val_accuracy: 0.9872\n",
      "Epoch 69/100\n",
      "398014/398014 [==============================] - 162s 407us/step - loss: 0.0727 - accuracy: 0.9730 - val_loss: 0.0405 - val_accuracy: 0.9867\n",
      "Epoch 70/100\n",
      "398014/398014 [==============================] - 162s 408us/step - loss: 0.0727 - accuracy: 0.9732 - val_loss: 0.0385 - val_accuracy: 0.9876\n",
      "Epoch 71/100\n",
      "398014/398014 [==============================] - 162s 407us/step - loss: 0.0732 - accuracy: 0.9731 - val_loss: 0.0374 - val_accuracy: 0.9878\n",
      "Epoch 72/100\n",
      "398014/398014 [==============================] - 162s 408us/step - loss: 0.0726 - accuracy: 0.9732 - val_loss: 0.0380 - val_accuracy: 0.9880\n",
      "Epoch 73/100\n",
      "398014/398014 [==============================] - 162s 407us/step - loss: 0.0725 - accuracy: 0.9733 - val_loss: 0.0343 - val_accuracy: 0.9892\n",
      "Epoch 74/100\n",
      "398014/398014 [==============================] - 162s 407us/step - loss: 0.0730 - accuracy: 0.9732 - val_loss: 0.0338 - val_accuracy: 0.9893\n",
      "Epoch 75/100\n",
      "398014/398014 [==============================] - 162s 408us/step - loss: 0.0717 - accuracy: 0.9736 - val_loss: 0.0344 - val_accuracy: 0.9892\n",
      "Epoch 76/100\n",
      "398014/398014 [==============================] - 163s 409us/step - loss: 0.0726 - accuracy: 0.9734 - val_loss: 0.0384 - val_accuracy: 0.9876\n",
      "Epoch 77/100\n",
      "398014/398014 [==============================] - 162s 408us/step - loss: 0.0720 - accuracy: 0.9734 - val_loss: 0.0349 - val_accuracy: 0.9890\n",
      "Epoch 78/100\n",
      "398014/398014 [==============================] - 163s 409us/step - loss: 0.0727 - accuracy: 0.9734 - val_loss: 0.0377 - val_accuracy: 0.9877\n",
      "Epoch 79/100\n",
      "398014/398014 [==============================] - 162s 408us/step - loss: 0.0722 - accuracy: 0.9736 - val_loss: 0.0375 - val_accuracy: 0.9882\n",
      "Epoch 80/100\n",
      "398014/398014 [==============================] - 162s 408us/step - loss: 0.0712 - accuracy: 0.9739 - val_loss: 0.0370 - val_accuracy: 0.9881\n",
      "Epoch 81/100\n",
      "398014/398014 [==============================] - 162s 408us/step - loss: 0.0723 - accuracy: 0.9736 - val_loss: 0.0358 - val_accuracy: 0.9887\n",
      "Epoch 82/100\n",
      "398014/398014 [==============================] - 162s 407us/step - loss: 0.0721 - accuracy: 0.9733 - val_loss: 0.0351 - val_accuracy: 0.9887\n",
      "Epoch 83/100\n",
      "398014/398014 [==============================] - 162s 408us/step - loss: 0.0725 - accuracy: 0.9735 - val_loss: 0.0405 - val_accuracy: 0.9868\n",
      "Epoch 84/100\n",
      "398014/398014 [==============================] - 162s 406us/step - loss: 0.0718 - accuracy: 0.9737 - val_loss: 0.0355 - val_accuracy: 0.9889\n",
      "Epoch 85/100\n",
      "398014/398014 [==============================] - 162s 408us/step - loss: 0.0715 - accuracy: 0.9736 - val_loss: 0.0354 - val_accuracy: 0.9887\n",
      "Epoch 86/100\n",
      "398014/398014 [==============================] - 162s 407us/step - loss: 0.0717 - accuracy: 0.9736 - val_loss: 0.0346 - val_accuracy: 0.9890\n",
      "Epoch 87/100\n",
      "398014/398014 [==============================] - 162s 408us/step - loss: 0.0716 - accuracy: 0.9736 - val_loss: 0.0373 - val_accuracy: 0.9879\n",
      "Epoch 88/100\n",
      "398014/398014 [==============================] - 162s 407us/step - loss: 0.0718 - accuracy: 0.9739 - val_loss: 0.0368 - val_accuracy: 0.9884\n",
      "Epoch 89/100\n",
      "398014/398014 [==============================] - 162s 407us/step - loss: 0.0719 - accuracy: 0.9736 - val_loss: 0.0384 - val_accuracy: 0.9874\n",
      "Epoch 90/100\n",
      "398014/398014 [==============================] - 162s 406us/step - loss: 0.0707 - accuracy: 0.9739 - val_loss: 0.0384 - val_accuracy: 0.9875\n",
      "Epoch 91/100\n",
      "398014/398014 [==============================] - 162s 406us/step - loss: 0.0709 - accuracy: 0.9738 - val_loss: 0.0355 - val_accuracy: 0.9885\n",
      "Epoch 92/100\n",
      "398014/398014 [==============================] - 163s 409us/step - loss: 0.0712 - accuracy: 0.9739 - val_loss: 0.0340 - val_accuracy: 0.9892\n",
      "Epoch 93/100\n",
      "398014/398014 [==============================] - 162s 408us/step - loss: 0.0706 - accuracy: 0.9742 - val_loss: 0.0354 - val_accuracy: 0.9888\n",
      "Epoch 94/100\n",
      "398014/398014 [==============================] - 163s 408us/step - loss: 0.0711 - accuracy: 0.9741 - val_loss: 0.0355 - val_accuracy: 0.9889\n",
      "Epoch 95/100\n",
      "398014/398014 [==============================] - 163s 408us/step - loss: 0.0713 - accuracy: 0.9742 - val_loss: 0.0375 - val_accuracy: 0.9881\n",
      "Epoch 96/100\n",
      "398014/398014 [==============================] - 163s 409us/step - loss: 0.0711 - accuracy: 0.9739 - val_loss: 0.0353 - val_accuracy: 0.9890\n",
      "Epoch 97/100\n",
      "398014/398014 [==============================] - 163s 410us/step - loss: 0.0715 - accuracy: 0.9737 - val_loss: 0.0348 - val_accuracy: 0.9891\n",
      "Epoch 98/100\n",
      "398014/398014 [==============================] - 163s 410us/step - loss: 0.0715 - accuracy: 0.9736 - val_loss: 0.0362 - val_accuracy: 0.9885\n",
      "Epoch 99/100\n",
      "398014/398014 [==============================] - 163s 410us/step - loss: 0.0702 - accuracy: 0.9744 - val_loss: 0.0370 - val_accuracy: 0.9880\n",
      "Epoch 100/100\n",
      "398014/398014 [==============================] - 163s 411us/step - loss: 0.0699 - accuracy: 0.9742 - val_loss: 0.0333 - val_accuracy: 0.9900\n"
     ]
    }
   ],
   "source": [
    "#--------------------------------Build new model using encoded data--------------------------\n",
    "epochs = 100\n",
    "model = Sequential()\n",
    "model.add(Conv1D(32, 2, activation='relu', input_shape = encoded_train_x[1].shape))\n",
    "model.add(BatchNormalization())\n",
    "model.add(MaxPool1D(2))\n",
    "model.add(Dropout(0.2))\n",
    "\n",
    "model.add(Conv1D(64, 2, activation='relu'))\n",
    "model.add(BatchNormalization())\n",
    "model.add(MaxPool1D(2))\n",
    "model.add(Dropout(0.5))\n",
    "\n",
    "model.add(Flatten())\n",
    "model.add(Dense(64, activation='relu'))\n",
    "model.add(Dropout(0.5))\n",
    "\n",
    "model.add(Dense(1, activation='sigmoid'))\n",
    "\n",
    "model.compile(optimizer=Adam(lr=0.0001), loss = 'binary_crossentropy',metrics=['accuracy'])\n",
    "history = model.fit(encoded_train_x, y_train_res, epochs=epochs,validation_data=(encoded_test_x, y_test), verbose=1)"
   ]
  },
  {
   "cell_type": "code",
   "execution_count": 28,
   "metadata": {},
   "outputs": [
    {
     "data": {
      "image/png": "[encoded data removed]",
      "text/plain": [
       "<Figure size 432x288 with 1 Axes>"
      ]
     },
     "metadata": {
      "needs_background": "light"
     },
     "output_type": "display_data"
    }
   ],
   "source": [
    "# Summarize history for loss\n",
    "plt.figure()\n",
    "plt.plot(history.history['loss'])\n",
    "plt.plot(history.history['val_loss'])\n",
    "plt.title('Encoded model loss')\n",
    "plt.ylabel('loss')\n",
    "plt.xlabel('epoch')\n",
    "plt.legend(['train', 'test'], loc='upper right')\n",
    "plt.show()"
   ]
  },
  {
   "cell_type": "code",
   "execution_count": 29,
   "metadata": {},
   "outputs": [
    {
     "name": "stdout",
     "output_type": "stream",
     "text": [
      "Overall accuracy of Convolutional Neural Network model: 0.9954355535269127\n"
     ]
    },
    {
     "data": {
      "image/png": "[encoded data removed]",
      "text/plain": [
       "<Figure size 432x288 with 1 Axes>"
      ]
     },
     "metadata": {
      "needs_background": "light"
     },
     "output_type": "display_data"
    },
    {
     "data": {
      "image/png": "[encoded data removed]",
      "text/plain": [
       "<Figure size 576x432 with 2 Axes>"
      ]
     },
     "metadata": {
      "needs_background": "light"
     },
     "output_type": "display_data"
    }
   ],
   "source": [
    "#---------------------------------Predictions and visuallizations-----------------------#Predict on test set\n",
    "predictions_CNN_prob = model.predict(encoded_test_x)\n",
    "predictions_CNN_prob = predictions_CNN_prob[:,0]\n",
    "predictions_CNN_01 = np.where(predictions_CNN_prob > 0.7, 1, 0) #Turn probability to 0-1 binary output\n",
    "#Print accuracy\n",
    "acc_CNN = accuracy_score(y_test, predictions_CNN_01)\n",
    "print('Overall accuracy of Convolutional Neural Network model:', acc_CNN)\n",
    "#Print Area Under Curve\n",
    "false_positive_rate, recall, thresholds = roc_curve(y_test,predictions_CNN_prob)\n",
    "roc_auc = auc(false_positive_rate, recall)\n",
    "plt.figure()\n",
    "plt.title('Receiver Operating Characteristic (ROC)')\n",
    "plt.plot(false_positive_rate, recall, 'b', label = 'AUC = %0.3f' %roc_auc)\n",
    "plt.legend(loc='lower right')\n",
    "plt.plot([0,1], [0,1], 'r--')\n",
    "plt.xlim([0.0,1.0])\n",
    "plt.ylim([0.0,1.0])\n",
    "plt.ylabel('Recall')\n",
    "plt.xlabel('Fall-out (1-Specificity)')\n",
    "plt.show()\n",
    "#Print Confusion Matrix\n",
    "cm = confusion_matrix(y_test, predictions_CNN_01)\n",
    "labels = ['No Default', 'Default']\n",
    "plt.figure(figsize=(8,6))\n",
    "sns.heatmap(cm,xticklabels=labels, yticklabels=labels, annot=True, fmt='d',cmap=\"Blues\", vmin = 0.2);\n",
    "plt.title('Confusion Matrix')\n",
    "plt.ylabel('True Class')\n",
    "plt.xlabel('Predicted Class')\n",
    "plt.show()"
   ]
  },
  {
   "cell_type": "code",
   "execution_count": null,
   "metadata": {},
   "outputs": [],
   "source": []
  }
 ],
 "metadata": {
  "kernelspec": {
   "display_name": "Python 3",
   "language": "python",
   "name": "python3"
  },
  "language_info": {
   "codemirror_mode": {
    "name": "ipython",
    "version": 3
   },
   "file_extension": ".py",
   "mimetype": "text/x-python",
   "name": "python",
   "nbconvert_exporter": "python",
   "pygments_lexer": "ipython3",
   "version": "3.7.4"
  }
 },
 "nbformat": 4,
 "nbformat_minor": 2
}

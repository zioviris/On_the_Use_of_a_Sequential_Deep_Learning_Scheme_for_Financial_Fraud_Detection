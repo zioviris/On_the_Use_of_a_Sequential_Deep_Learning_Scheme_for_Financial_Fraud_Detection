{
 "cells": [
  {
   "cell_type": "code",
   "execution_count": 11,
   "metadata": {},
   "outputs": [],
   "source": [
    "import pandas as pd\n",
    "import numpy as np\n",
    "from scipy import stats\n",
    "import tensorflow as tf\n",
    "import matplotlib.pyplot as plt\n",
    "import seaborn as sns\n",
    "import pickle\n",
    "\n",
    "from sklearn.model_selection import train_test_split\n",
    "from sklearn.metrics import confusion_matrix, precision_recall_curve\n",
    "from sklearn.metrics import recall_score, classification_report, auc, roc_curve,confusion_matrix,accuracy_score, auc\n",
    "\n",
    "from sklearn.metrics import precision_recall_fscore_support, f1_score\n",
    "from sklearn.preprocessing import StandardScaler\n",
    "\n",
    "from pylab import rcParams\n",
    "from keras.models import Model, load_model\n",
    "from keras.layers import Input, Dense\n",
    "from keras.callbacks import ModelCheckpoint, TensorBoard\n",
    "from keras import regularizers\n",
    "from tensorflow import keras\n",
    "from keras import Sequential\n",
    "from keras.layers import Flatten, Dense, Dropout, BatchNormalization\n",
    "from keras.layers import Conv1D, MaxPool1D\n",
    "from keras.optimizers import Adam\n",
    "from sklearn.metrics import confusion_matrix,accuracy_score, roc_curve, auc\n",
    "\n",
    "import imblearn\n",
    "from imblearn.over_sampling import SMOTE"
   ]
  },
  {
   "cell_type": "code",
   "execution_count": 12,
   "metadata": {},
   "outputs": [
    {
     "data": {
      "text/plain": [
       "(284807, 31)"
      ]
     },
     "execution_count": 12,
     "metadata": {},
     "output_type": "execute_result"
    }
   ],
   "source": [
    "# Read the dataset\n",
    "df = pd.read_csv('F:creditcard.csv')\n",
    "#check on the size of the dataframe\n",
    "df.shape"
   ]
  },
  {
   "cell_type": "code",
   "execution_count": 13,
   "metadata": {},
   "outputs": [],
   "source": [
    "# We separate the feature vector from the classification result\n",
    "X = df.drop('Class',axis=1).values\n",
    "y = df['Class'].values"
   ]
  },
  {
   "cell_type": "code",
   "execution_count": 14,
   "metadata": {},
   "outputs": [],
   "source": [
    "# Feature scaling\n",
    "X -= X.min(axis=0)\n",
    "X /= X.max(axis=0)"
   ]
  },
  {
   "cell_type": "code",
   "execution_count": 15,
   "metadata": {},
   "outputs": [
    {
     "name": "stdout",
     "output_type": "stream",
     "text": [
      "Number transactions X_train dataset:  (199364, 30)\n",
      "Number transactions y_train dataset:  (199364,)\n",
      "Number transactions X_test dataset:  (85443, 30)\n",
      "Number transactions y_test dataset:  (85443,)\n"
     ]
    }
   ],
   "source": [
    "#Separation of data into training & test sets\n",
    "X_train, X_test, y_train, y_test = train_test_split(X, y, test_size=0.3, random_state=0)\n",
    "\n",
    "print(\"Number transactions X_train dataset: \", X_train.shape)\n",
    "print(\"Number transactions y_train dataset: \", y_train.shape)\n",
    "print(\"Number transactions X_test dataset: \", X_test.shape)\n",
    "print(\"Number transactions y_test dataset: \", y_test.shape)"
   ]
  },
  {
   "cell_type": "code",
   "execution_count": 16,
   "metadata": {},
   "outputs": [
    {
     "name": "stdout",
     "output_type": "stream",
     "text": [
      "Before OverSampling, counts of label '1': 345\n",
      "Before OverSampling, counts of label '0': 199019 \n",
      "\n"
     ]
    }
   ],
   "source": [
    "print(\"Before OverSampling, counts of label '1': {}\".format(sum(y_train==1)))\n",
    "print(\"Before OverSampling, counts of label '0': {} \\n\".format(sum(y_train==0)))\n",
    "\n",
    "#sm = SMOTE(random_state=2)\n",
    "#X_train_res, y_train_res = sm.fit_sample(X_train, y_train.ravel())\n",
    "\n",
    "#print('After OverSampling, the shape of train_X: {}'.format(X_train_res.shape))\n",
    "#print('After OverSampling, the shape of train_y: {} \\n'.format(y_train_res.shape))\n",
    "\n",
    "#print(\"After OverSampling, counts of label '1': {}\".format(sum(y_train_res==1)))\n",
    "#print(\"After OverSampling, counts of label '0': {}\".format(sum(y_train_res==0)))"
   ]
  },
  {
   "cell_type": "code",
   "execution_count": 17,
   "metadata": {},
   "outputs": [
    {
     "data": {
      "text/plain": [
       "(199364, 30, 1)"
      ]
     },
     "execution_count": 17,
     "metadata": {},
     "output_type": "execute_result"
    }
   ],
   "source": [
    "#Reshape data for the CNN model\n",
    "reshape_train_x = X_train.reshape(X_train.shape[0],X_train.shape[1], 1)\n",
    "reshape_test_x = X_test.reshape(X_test.shape[0], X_test.shape[1], 1)\n",
    "\n",
    "reshape_train_x.shape\n"
   ]
  },
  {
   "cell_type": "code",
   "execution_count": 18,
   "metadata": {},
   "outputs": [
    {
     "name": "stdout",
     "output_type": "stream",
     "text": [
      "Train on 199364 samples, validate on 85443 samples\n",
      "Epoch 1/50\n",
      "199364/199364 [==============================] - 99s 497us/step - loss: 0.0253 - accuracy: 0.9928 - val_loss: 0.0045 - val_accuracy: 0.9993\n",
      "Epoch 2/50\n",
      "199364/199364 [==============================] - 96s 482us/step - loss: 0.0049 - accuracy: 0.9991 - val_loss: 0.0037 - val_accuracy: 0.9994\n",
      "Epoch 3/50\n",
      "199364/199364 [==============================] - 97s 489us/step - loss: 0.0048 - accuracy: 0.9992 - val_loss: 0.0035 - val_accuracy: 0.9994\n",
      "Epoch 4/50\n",
      "199364/199364 [==============================] - 98s 493us/step - loss: 0.0045 - accuracy: 0.9992 - val_loss: 0.0034 - val_accuracy: 0.9994\n",
      "Epoch 5/50\n",
      "199364/199364 [==============================] - 99s 495us/step - loss: 0.0043 - accuracy: 0.9993 - val_loss: 0.0033 - val_accuracy: 0.9994\n",
      "Epoch 6/50\n",
      "199364/199364 [==============================] - 99s 495us/step - loss: 0.0043 - accuracy: 0.9992 - val_loss: 0.0033 - val_accuracy: 0.9994\n",
      "Epoch 7/50\n",
      "199364/199364 [==============================] - 98s 494us/step - loss: 0.0043 - accuracy: 0.9993 - val_loss: 0.0034 - val_accuracy: 0.9994\n",
      "Epoch 8/50\n",
      "199364/199364 [==============================] - 99s 497us/step - loss: 0.0040 - accuracy: 0.9992 - val_loss: 0.0034 - val_accuracy: 0.9994\n",
      "Epoch 9/50\n",
      "199364/199364 [==============================] - 99s 499us/step - loss: 0.0041 - accuracy: 0.9993 - val_loss: 0.0033 - val_accuracy: 0.9994\n",
      "Epoch 10/50\n",
      "199364/199364 [==============================] - 99s 498us/step - loss: 0.0041 - accuracy: 0.9993 - val_loss: 0.0032 - val_accuracy: 0.9994\n",
      "Epoch 11/50\n",
      "199364/199364 [==============================] - 99s 495us/step - loss: 0.0041 - accuracy: 0.9993 - val_loss: 0.0032 - val_accuracy: 0.9994\n",
      "Epoch 12/50\n",
      "199364/199364 [==============================] - 99s 498us/step - loss: 0.0039 - accuracy: 0.9993 - val_loss: 0.0032 - val_accuracy: 0.9994\n",
      "Epoch 13/50\n",
      "199364/199364 [==============================] - 99s 496us/step - loss: 0.0039 - accuracy: 0.9993 - val_loss: 0.0035 - val_accuracy: 0.9994\n",
      "Epoch 14/50\n",
      "199364/199364 [==============================] - 99s 495us/step - loss: 0.0040 - accuracy: 0.9993 - val_loss: 0.0031 - val_accuracy: 0.9995\n",
      "Epoch 15/50\n",
      "199364/199364 [==============================] - 99s 494us/step - loss: 0.0037 - accuracy: 0.9994 - val_loss: 0.0031 - val_accuracy: 0.9994\n",
      "Epoch 16/50\n",
      "199364/199364 [==============================] - 99s 496us/step - loss: 0.0039 - accuracy: 0.9994 - val_loss: 0.0031 - val_accuracy: 0.9994\n",
      "Epoch 17/50\n",
      "199364/199364 [==============================] - 98s 490us/step - loss: 0.0039 - accuracy: 0.9993 - val_loss: 0.0031 - val_accuracy: 0.9995\n",
      "Epoch 18/50\n",
      "199364/199364 [==============================] - 99s 496us/step - loss: 0.0038 - accuracy: 0.9993 - val_loss: 0.0033 - val_accuracy: 0.9994\n",
      "Epoch 19/50\n",
      "199364/199364 [==============================] - 100s 500us/step - loss: 0.0039 - accuracy: 0.9993 - val_loss: 0.0031 - val_accuracy: 0.9995\n",
      "Epoch 20/50\n",
      "199364/199364 [==============================] - 99s 499us/step - loss: 0.0036 - accuracy: 0.9993 - val_loss: 0.0031 - val_accuracy: 0.9995\n",
      "Epoch 21/50\n",
      "199364/199364 [==============================] - 100s 500us/step - loss: 0.0036 - accuracy: 0.9994 - val_loss: 0.0031 - val_accuracy: 0.9995\n",
      "Epoch 22/50\n",
      "199364/199364 [==============================] - 100s 501us/step - loss: 0.0036 - accuracy: 0.9994 - val_loss: 0.0031 - val_accuracy: 0.9994\n",
      "Epoch 23/50\n",
      "199364/199364 [==============================] - 100s 499us/step - loss: 0.0036 - accuracy: 0.9994 - val_loss: 0.0030 - val_accuracy: 0.9995\n",
      "Epoch 24/50\n",
      "199364/199364 [==============================] - 100s 500us/step - loss: 0.0037 - accuracy: 0.9994 - val_loss: 0.0031 - val_accuracy: 0.9994\n",
      "Epoch 25/50\n",
      "199364/199364 [==============================] - 100s 502us/step - loss: 0.0037 - accuracy: 0.9994 - val_loss: 0.0030 - val_accuracy: 0.9995\n",
      "Epoch 26/50\n",
      "199364/199364 [==============================] - 100s 500us/step - loss: 0.0037 - accuracy: 0.9994 - val_loss: 0.0030 - val_accuracy: 0.9995\n",
      "Epoch 27/50\n",
      "199364/199364 [==============================] - 100s 501us/step - loss: 0.0037 - accuracy: 0.9993 - val_loss: 0.0031 - val_accuracy: 0.9995\n",
      "Epoch 28/50\n",
      "199364/199364 [==============================] - 100s 500us/step - loss: 0.0035 - accuracy: 0.9994 - val_loss: 0.0031 - val_accuracy: 0.9995\n",
      "Epoch 29/50\n",
      "199364/199364 [==============================] - 100s 500us/step - loss: 0.0034 - accuracy: 0.9994 - val_loss: 0.0030 - val_accuracy: 0.9995\n",
      "Epoch 30/50\n",
      "199364/199364 [==============================] - 100s 502us/step - loss: 0.0035 - accuracy: 0.9994 - val_loss: 0.0033 - val_accuracy: 0.9995\n",
      "Epoch 31/50\n",
      "199364/199364 [==============================] - 100s 501us/step - loss: 0.0034 - accuracy: 0.9994 - val_loss: 0.0032 - val_accuracy: 0.9995\n",
      "Epoch 32/50\n",
      "199364/199364 [==============================] - 100s 500us/step - loss: 0.0035 - accuracy: 0.9994 - val_loss: 0.0031 - val_accuracy: 0.9995\n",
      "Epoch 33/50\n",
      "199364/199364 [==============================] - 100s 502us/step - loss: 0.0034 - accuracy: 0.9994 - val_loss: 0.0030 - val_accuracy: 0.9995\n",
      "Epoch 34/50\n",
      "199364/199364 [==============================] - 100s 501us/step - loss: 0.0035 - accuracy: 0.9994 - val_loss: 0.0031 - val_accuracy: 0.9995\n",
      "Epoch 35/50\n",
      "199364/199364 [==============================] - 100s 503us/step - loss: 0.0035 - accuracy: 0.9994 - val_loss: 0.0030 - val_accuracy: 0.9994\n",
      "Epoch 36/50\n",
      "199364/199364 [==============================] - 100s 503us/step - loss: 0.0034 - accuracy: 0.9994 - val_loss: 0.0031 - val_accuracy: 0.9995\n",
      "Epoch 37/50\n",
      "199364/199364 [==============================] - 99s 497us/step - loss: 0.0034 - accuracy: 0.9993 - val_loss: 0.0030 - val_accuracy: 0.9995\n",
      "Epoch 38/50\n",
      "199364/199364 [==============================] - 102s 511us/step - loss: 0.0036 - accuracy: 0.9994 - val_loss: 0.0030 - val_accuracy: 0.9995\n",
      "Epoch 39/50\n",
      "199364/199364 [==============================] - 100s 503us/step - loss: 0.0033 - accuracy: 0.9994 - val_loss: 0.0030 - val_accuracy: 0.9995\n",
      "Epoch 40/50\n",
      "199364/199364 [==============================] - 101s 505us/step - loss: 0.0034 - accuracy: 0.9994 - val_loss: 0.0031 - val_accuracy: 0.9995\n",
      "Epoch 41/50\n",
      "199364/199364 [==============================] - 104s 521us/step - loss: 0.0034 - accuracy: 0.9994 - val_loss: 0.0030 - val_accuracy: 0.9994\n",
      "Epoch 42/50\n",
      "199364/199364 [==============================] - 111s 555us/step - loss: 0.0035 - accuracy: 0.9994 - val_loss: 0.0029 - val_accuracy: 0.9995\n",
      "Epoch 43/50\n",
      "199364/199364 [==============================] - 127s 635us/step - loss: 0.0034 - accuracy: 0.9994 - val_loss: 0.0030 - val_accuracy: 0.9995\n",
      "Epoch 44/50\n",
      "199364/199364 [==============================] - 110s 553us/step - loss: 0.0032 - accuracy: 0.9995 - val_loss: 0.0030 - val_accuracy: 0.9995\n",
      "Epoch 45/50\n",
      "199364/199364 [==============================] - 113s 567us/step - loss: 0.0034 - accuracy: 0.9994 - val_loss: 0.0029 - val_accuracy: 0.9995\n",
      "Epoch 46/50\n",
      "199364/199364 [==============================] - 104s 522us/step - loss: 0.0034 - accuracy: 0.9994 - val_loss: 0.0030 - val_accuracy: 0.9995\n",
      "Epoch 47/50\n",
      "199364/199364 [==============================] - 107s 539us/step - loss: 0.0034 - accuracy: 0.9995 - val_loss: 0.0031 - val_accuracy: 0.9995\n",
      "Epoch 48/50\n",
      "199364/199364 [==============================] - 103s 515us/step - loss: 0.0033 - accuracy: 0.9995 - val_loss: 0.0031 - val_accuracy: 0.9995\n",
      "Epoch 49/50\n",
      "199364/199364 [==============================] - 159s 797us/step - loss: 0.0033 - accuracy: 0.9994 - val_loss: 0.0030 - val_accuracy: 0.9995\n",
      "Epoch 50/50\n",
      "199364/199364 [==============================] - 159s 800us/step - loss: 0.0033 - accuracy: 0.9994 - val_loss: 0.0030 - val_accuracy: 0.9995\n"
     ]
    }
   ],
   "source": [
    "#--------------------------------Build new model using encoded data--------------------------\n",
    "epochs = 50\n",
    "model = Sequential()\n",
    "model.add(Conv1D(32, 2, activation='relu', input_shape = reshape_train_x[1].shape))\n",
    "model.add(BatchNormalization())\n",
    "model.add(MaxPool1D(2))\n",
    "model.add(Dropout(0.2))\n",
    "\n",
    "model.add(Conv1D(64, 2, activation='relu'))\n",
    "model.add(BatchNormalization())\n",
    "model.add(MaxPool1D(2))\n",
    "model.add(Dropout(0.5))\n",
    "\n",
    "model.add(Flatten())\n",
    "model.add(Dense(64, activation='relu'))\n",
    "model.add(Dropout(0.5))\n",
    "\n",
    "model.add(Dense(1, activation='sigmoid'))\n",
    "\n",
    "model.compile(optimizer=Adam(lr=0.0001), loss = 'binary_crossentropy',metrics=['accuracy'])\n",
    "history = model.fit(reshape_train_x, y_train, epochs=epochs,validation_data=(reshape_test_x, y_test), verbose=1)"
   ]
  },
  {
   "cell_type": "code",
   "execution_count": 19,
   "metadata": {},
   "outputs": [
    {
     "data": {
      "image/png": "[encoded data removed]",
      "text/plain": [
       "<Figure size 432x288 with 1 Axes>"
      ]
     },
     "metadata": {
      "needs_background": "light"
     },
     "output_type": "display_data"
    }
   ],
   "source": [
    "# Summarize history for loss\n",
    "plt.figure()\n",
    "plt.plot(history.history['loss'])\n",
    "plt.plot(history.history['val_loss'])\n",
    "plt.title('Encoded model loss')\n",
    "plt.ylabel('loss')\n",
    "plt.xlabel('epoch')\n",
    "plt.legend(['train', 'test'], loc='upper right')\n",
    "plt.show()"
   ]
  },
  {
   "cell_type": "code",
   "execution_count": 20,
   "metadata": {},
   "outputs": [
    {
     "name": "stdout",
     "output_type": "stream",
     "text": [
      "Overall accuracy of SMOTE - Deep Autoencoder - Convolutional Neural Network model: 0.9994850368081645\n"
     ]
    },
    {
     "data": {
      "image/png": "[encoded data removed]",
      "text/plain": [
       "<Figure size 432x288 with 1 Axes>"
      ]
     },
     "metadata": {
      "needs_background": "light"
     },
     "output_type": "display_data"
    },
    {
     "data": {
      "image/png": "[encoded data removed]",
      "text/plain": [
       "<Figure size 576x432 with 2 Axes>"
      ]
     },
     "metadata": {
      "needs_background": "light"
     },
     "output_type": "display_data"
    }
   ],
   "source": [
    "#---------------------------------Predictions and visuallizations-----------------------#Predict on test set\n",
    "predictions_CNN_prob = model.predict(reshape_test_x)\n",
    "predictions_CNN_prob = predictions_CNN_prob[:,0]\n",
    "predictions_CNN_01 = np.where(predictions_CNN_prob > 0.7, 1, 0) #Turn probability to 0-1 binary output\n",
    "#Print accuracy\n",
    "acc_CNN = accuracy_score(y_test, predictions_CNN_01)\n",
    "print('Overall accuracy of SMOTE - Deep Autoencoder - Convolutional Neural Network model:', acc_CNN)\n",
    "#Print Area Under Curve\n",
    "false_positive_rate, recall, thresholds = roc_curve(y_test,predictions_CNN_prob)\n",
    "roc_auc = auc(false_positive_rate, recall)\n",
    "plt.figure()\n",
    "plt.title('Receiver Operating Characteristic (ROC)')\n",
    "plt.plot(false_positive_rate, recall, 'b', label = 'AUC = %0.3f' %roc_auc)\n",
    "plt.legend(loc='lower right')\n",
    "plt.plot([0,1], [0,1], 'r--')\n",
    "plt.xlim([0.0,1.0])\n",
    "plt.ylim([0.0,1.0])\n",
    "plt.ylabel('Recall')\n",
    "plt.xlabel('Fall-out (1-Specificity)')\n",
    "plt.show()\n",
    "#Print Confusion Matrix\n",
    "cm = confusion_matrix(y_test, predictions_CNN_01)\n",
    "labels = ['No Default', 'Default']\n",
    "plt.figure(figsize=(8,6))\n",
    "sns.heatmap(cm,xticklabels=labels, yticklabels=labels, annot=True, fmt='d',cmap=\"Blues\", vmin = 0.2);\n",
    "plt.title('Confusion Matrix')\n",
    "plt.ylabel('True Class')\n",
    "plt.xlabel('Predicted Class')\n",
    "plt.show()"
   ]
  },
  {
   "cell_type": "code",
   "execution_count": null,
   "metadata": {},
   "outputs": [],
   "source": []
  }
 ],
 "metadata": {
  "kernelspec": {
   "display_name": "Python 3",
   "language": "python",
   "name": "python3"
  },
  "language_info": {
   "codemirror_mode": {
    "name": "ipython",
    "version": 3
   },
   "file_extension": ".py",
   "mimetype": "text/x-python",
   "name": "python",
   "nbconvert_exporter": "python",
   "pygments_lexer": "ipython3",
   "version": "3.7.4"
  }
 },
 "nbformat": 4,
 "nbformat_minor": 2
}
